{
 "cells": [
  {
   "cell_type": "code",
   "execution_count": 11,
   "id": "019411b3-bf03-407b-9b31-1bb1e5efdc46",
   "metadata": {},
   "outputs": [
    {
     "name": "stdin",
     "output_type": "stream",
     "text": [
      "Enter Your Name To Proceed Pankaj\n"
     ]
    },
    {
     "name": "stdout",
     "output_type": "stream",
     "text": [
      "<class 'str'>\n",
      "Hello Pankaj Good Morning\n"
     ]
    }
   ],
   "source": [
    "# Q1: Write a code to create a string with your name and print it?\n",
    "#ANS:\n",
    "name=input(\"Enter Your Name To Proceed\")\n",
    "print(type(name))\n",
    "print(\"Hello \"+name +\" Good Morning\")"
   ]
  },
  {
   "cell_type": "code",
   "execution_count": 15,
   "id": "ab86aa8f-c532-40e0-8866-530d5f6da966",
   "metadata": {},
   "outputs": [
    {
     "name": "stdout",
     "output_type": "stream",
     "text": [
      "11\n"
     ]
    }
   ],
   "source": [
    "# Q2: Write a code to find the length of the string \"Hello World\"?\n",
    "#ANS:\n",
    "name=\"Hello World\"\n",
    "print(len(name))"
   ]
  },
  {
   "cell_type": "code",
   "execution_count": 17,
   "id": "913f420c-98dc-449f-90f5-e8eaeaa0727d",
   "metadata": {},
   "outputs": [
    {
     "data": {
      "text/plain": [
       "'Pyt'"
      ]
     },
     "execution_count": 17,
     "metadata": {},
     "output_type": "execute_result"
    }
   ],
   "source": [
    "# Q3: Write a code to slice the first 3 characters from the string \"Python Programming\"?\n",
    "#ANS:\n",
    "name=\"Python Programming\"\n",
    "name[:3]"
   ]
  },
  {
   "cell_type": "code",
   "execution_count": 5,
   "id": "f1e4939e-1500-4754-9007-c80379e6289e",
   "metadata": {},
   "outputs": [
    {
     "data": {
      "text/plain": [
       "'HELLO'"
      ]
     },
     "execution_count": 5,
     "metadata": {},
     "output_type": "execute_result"
    }
   ],
   "source": [
    "# Q4: Write a code to convert the string \"hello\" to uppercase?\n",
    "#ANS:\n",
    "name=\"hello\"\n",
    "name.upper()"
   ]
  },
  {
   "cell_type": "code",
   "execution_count": 7,
   "id": "d81cd4ca-f35e-41e2-a9c7-d59cc3cd683c",
   "metadata": {},
   "outputs": [
    {
     "data": {
      "text/plain": [
       "'I Like Oranges'"
      ]
     },
     "execution_count": 7,
     "metadata": {},
     "output_type": "execute_result"
    }
   ],
   "source": [
    "#Q5: Write a code to replace the word \"apple\" with \"orange\" in the string \"I like apple\"?\n",
    "#ANS:\n",
    "a=\"I Like Apple\"\n",
    "a.replace(\"Apple\",\"Oranges\")"
   ]
  },
  {
   "cell_type": "code",
   "execution_count": 33,
   "id": "ff865b9d-5b19-4202-ab26-e23a82a937fb",
   "metadata": {},
   "outputs": [
    {
     "name": "stdout",
     "output_type": "stream",
     "text": [
      "[1, 2, 3, 4, 5]\n"
     ]
    }
   ],
   "source": [
    "# Q6: Write a code to replace the word \"apple\" with \"orange\" in the string \"I like apple\"?\n",
    "#ANS:\n",
    "a=[]\n",
    "for i in range(1,6):\n",
    "   a.append(i)\n",
    "print(a)"
   ]
  },
  {
   "cell_type": "code",
   "execution_count": 37,
   "id": "f34cd8a3-1b13-4cc4-b6b6-089f7f9ac480",
   "metadata": {},
   "outputs": [
    {
     "name": "stdout",
     "output_type": "stream",
     "text": [
      "[1, 2, 3, 4, 5, 10, 10]\n"
     ]
    }
   ],
   "source": [
    "# Q7: Write a code to append the number 10 to the list [1, 2, 3, 4]?\n",
    "#ANS:\n",
    "a.append(10)\n",
    "print(a)"
   ]
  },
  {
   "cell_type": "code",
   "execution_count": 39,
   "id": "515adcc0-edff-4842-a0cb-988dc295baee",
   "metadata": {},
   "outputs": [
    {
     "name": "stdout",
     "output_type": "stream",
     "text": [
      "[1, 2, 4, 5, 10, 10]\n"
     ]
    }
   ],
   "source": [
    "# Q8: Write a code to append the number 10 to the list [1, 2, 3, 4]?\n",
    "#ANS:\n",
    "a.remove(3)\n",
    "print(a)"
   ]
  },
  {
   "cell_type": "code",
   "execution_count": 41,
   "id": "badbf99c-c666-451e-9966-3537deb1a414",
   "metadata": {},
   "outputs": [
    {
     "data": {
      "text/plain": [
       "'b'"
      ]
     },
     "execution_count": 41,
     "metadata": {},
     "output_type": "execute_result"
    }
   ],
   "source": [
    "# Q9: Write a code to append the number 10 to the list [1, 2, 3, 4]?\n",
    "#ANS:\n",
    "b=['a','b','c','d']\n",
    "b[1]"
   ]
  },
  {
   "cell_type": "code",
   "execution_count": 11,
   "id": "5cc4e7fa-0224-4e57-84bb-86510d6a38fe",
   "metadata": {},
   "outputs": [
    {
     "name": "stdout",
     "output_type": "stream",
     "text": [
      "[50, 40, 30, 20, 10]\n"
     ]
    }
   ],
   "source": [
    "# Q10: Write a code to reverse the list [10, 20, 30, 40, 50]?\n",
    "#ANS:\n",
    "c=[10,20,30,40,50]\n",
    "rev = c[::-1]\n",
    "print(rev)"
   ]
  },
  {
   "cell_type": "code",
   "execution_count": 25,
   "id": "82a2c409-77a2-4be7-a787-e7a202a96238",
   "metadata": {},
   "outputs": [
    {
     "name": "stdout",
     "output_type": "stream",
     "text": [
      "('10', '20', '30') <class 'tuple'>\n"
     ]
    }
   ],
   "source": [
    "#Q11:  Write a code to create a tuple with the elements 10, 20, 30 and print it?\n",
    "#ANS:\n",
    "my = (\"10\", \"20\", \"30\")\n",
    "print(my,type(my))"
   ]
  },
  {
   "cell_type": "code",
   "execution_count": 27,
   "id": "237be361-625f-4f00-b18f-e6822105400e",
   "metadata": {},
   "outputs": [
    {
     "name": "stdout",
     "output_type": "stream",
     "text": [
      "apple\n"
     ]
    }
   ],
   "source": [
    "#Q12:  Write a code to access the first element of the tuple ('apple', 'banana', 'cherry').?\n",
    "#ANS:\n",
    "my = (\"apple\", \"banana\", \"cherry\")\n",
    "print(my[0])"
   ]
  },
  {
   "cell_type": "code",
   "execution_count": 29,
   "id": "6f502a02-bcfc-47c5-b190-a725a2b2f0b6",
   "metadata": {},
   "outputs": [
    {
     "name": "stdout",
     "output_type": "stream",
     "text": [
      "3\n"
     ]
    }
   ],
   "source": [
    "#Q13: Write a code to count how many times the number 2 appears in the tuple (1, 2, 3, 2, 4, 2)?\n",
    "#ANS:\n",
    "this = (1,2,3,2,4,2)\n",
    "print(this.count(2))"
   ]
  },
  {
   "cell_type": "code",
   "execution_count": 33,
   "id": "4f57c512-1e7b-4a82-8d7a-b78a38c911f1",
   "metadata": {},
   "outputs": [
    {
     "data": {
      "text/plain": [
       "1"
      ]
     },
     "execution_count": 33,
     "metadata": {},
     "output_type": "execute_result"
    }
   ],
   "source": [
    "#Q14: Write a code to find the index of the element \"cat\" in the tuple ('dog', 'cat', 'rabbit').\n",
    "#ANS:\n",
    "animal=('Dog','cat','rabbit')\n",
    "animal.index('cat')"
   ]
  },
  {
   "cell_type": "code",
   "execution_count": 37,
   "id": "4234a790-00b1-4e0e-8ca5-e017c8717254",
   "metadata": {},
   "outputs": [
    {
     "name": "stdout",
     "output_type": "stream",
     "text": [
      "Banana Present\n"
     ]
    }
   ],
   "source": [
    "#Q15: Write a code to check if the element \"banana\" is in the tuple ('apple', 'orange', 'banana').\n",
    "#ANS:\n",
    "fruits = ('apple','orange','banana')\n",
    "for i in fruits:\n",
    "    if(i=='banana'):\n",
    "       print(\"Banana Present\")"
   ]
  },
  {
   "cell_type": "code",
   "execution_count": 43,
   "id": "df87ba7e-718d-4a26-be76-4ec5f230e0d8",
   "metadata": {},
   "outputs": [
    {
     "name": "stdout",
     "output_type": "stream",
     "text": [
      "{1, 2, 3, 4, 5} <class 'set'>\n"
     ]
    }
   ],
   "source": [
    "#Q16:  Write a code to check if the element \"banana\" is in the tuple ('apple', 'orange', 'banana')?\n",
    "#ANS:\n",
    "mys={1,2,3,4,5}\n",
    "print(mys,type(mys))"
   ]
  },
  {
   "cell_type": "code",
   "execution_count": 51,
   "id": "6be363c1-8de3-4e72-ab2e-a93268e470d8",
   "metadata": {},
   "outputs": [
    {
     "name": "stdout",
     "output_type": "stream",
     "text": [
      "{1, 2, 3, 4, 5, 6} <class 'set'>\n"
     ]
    }
   ],
   "source": [
    "#Q17: Write a code to add the element 6 to the set {1, 2, 3, 4}?\n",
    "#ANS:\n",
    "mys.add(6)\n",
    "print(mys,type(mys))"
   ]
  },
  {
   "cell_type": "code",
   "execution_count": 53,
   "id": "dc74d8a6-bc71-4e2d-a673-16a8267e5003",
   "metadata": {},
   "outputs": [
    {
     "name": "stdout",
     "output_type": "stream",
     "text": [
      "(10, 20, 30) <class 'tuple'>\n"
     ]
    }
   ],
   "source": [
    "#Q18: Write a code to create a tuple with the elements 10, 20, 30 and print it?\n",
    "#ANS:\n",
    "t = (10, 20, 30) \n",
    "\n",
    "print(t,type(t))"
   ]
  },
  {
   "cell_type": "code",
   "execution_count": 57,
   "id": "7dc81791-e48d-4610-aa36-16a2d9442e5a",
   "metadata": {},
   "outputs": [
    {
     "name": "stdout",
     "output_type": "stream",
     "text": [
      "First Element: apple\n",
      "Last Element: cherry\n"
     ]
    }
   ],
   "source": [
    "#Q19: Write a code to create a tuple with the elements 10, 20, 30 and print it?\n",
    "#ANS:\n",
    "my = ('apple','banana','cherry')\n",
    "first_elements = my[0]\n",
    "last_elements = my[-1]\n",
    "print(\"First Element:\", first_elements)\n",
    "print(\"Last Element:\", last_elements)"
   ]
  },
  {
   "cell_type": "code",
   "execution_count": 59,
   "id": "3589e2f2-1c19-44fc-85f0-f25dc3b7e4ac",
   "metadata": {},
   "outputs": [
    {
     "name": "stdout",
     "output_type": "stream",
     "text": [
      "3\n"
     ]
    }
   ],
   "source": [
    "#Q20: Write a code to count how many times the number 2 appears in the tuple (1, 2, 3, 2, 4, 2)?\n",
    "#ANS:\n",
    "this = (1,2,3,2,4,2)\n",
    "print(this.count(2))"
   ]
  },
  {
   "cell_type": "code",
   "execution_count": 61,
   "id": "ac7c0909-6971-441a-b4f3-fb28d1b4b4c5",
   "metadata": {},
   "outputs": [
    {
     "data": {
      "text/plain": [
       "1"
      ]
     },
     "execution_count": 61,
     "metadata": {},
     "output_type": "execute_result"
    }
   ],
   "source": [
    "#Q21: Write a code to find the index of the element \"cat\" in the tuple ('dog', 'cat', 'rabbit')?\n",
    "#ANS:\n",
    "animal=('Dog','cat','rabbit')\n",
    "animal.index('cat')"
   ]
  },
  {
   "cell_type": "code",
   "execution_count": 63,
   "id": "007e61b8-f5d0-4ef1-a112-07daf7845a81",
   "metadata": {},
   "outputs": [
    {
     "name": "stdout",
     "output_type": "stream",
     "text": [
      "Banana Present\n"
     ]
    }
   ],
   "source": [
    "#Q22: Write a code to find the index of the element \"cat\" in the tuple ('dog', 'cat', 'rabbit')?\n",
    "#ANS: \n",
    "fruits = ('apple','orange','banana')\n",
    "for i in fruits:\n",
    "    if(i=='banana'):\n",
    "       print(\"Banana Present\")"
   ]
  },
  {
   "cell_type": "code",
   "execution_count": 65,
   "id": "46489bb1-76f7-4a4a-8e55-9d52fdf554d9",
   "metadata": {},
   "outputs": [
    {
     "name": "stdout",
     "output_type": "stream",
     "text": [
      "{1, 2, 3, 4, 5} <class 'set'>\n"
     ]
    }
   ],
   "source": [
    "#Q23: Write a code to create a set with the elements 1, 2, 3, 4, 5 and print it.\n",
    "#ANS:\n",
    "mys={1,2,3,4,5}\n",
    "print(mys,type(mys))"
   ]
  },
  {
   "cell_type": "code",
   "execution_count": 67,
   "id": "14fc57d2-7438-4c5c-afbc-8d91c511640c",
   "metadata": {},
   "outputs": [
    {
     "name": "stdout",
     "output_type": "stream",
     "text": [
      "{1, 2, 3, 4, 5, 6} <class 'set'>\n"
     ]
    }
   ],
   "source": [
    "#Q24: Write a code to add the element 6 to the set {1, 2, 3, 4}?\n",
    "#ANS:\n",
    "mys.add(6)\n",
    "print(mys,type(mys))"
   ]
  }
 ],
 "metadata": {
  "kernelspec": {
   "display_name": "Python [conda env:base] *",
   "language": "python",
   "name": "conda-base-py"
  },
  "language_info": {
   "codemirror_mode": {
    "name": "ipython",
    "version": 3
   },
   "file_extension": ".py",
   "mimetype": "text/x-python",
   "name": "python",
   "nbconvert_exporter": "python",
   "pygments_lexer": "ipython3",
   "version": "3.12.7"
  }
 },
 "nbformat": 4,
 "nbformat_minor": 5
}
